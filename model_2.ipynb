{
  "nbformat": 4,
  "nbformat_minor": 0,
  "metadata": {
    "colab": {
      "name": "model_2.ipynb",
      "provenance": [],
      "collapsed_sections": [],
      "authorship_tag": "ABX9TyMxJvuf+VLqage/p+WyarbP",
      "include_colab_link": true
    },
    "kernelspec": {
      "name": "python3",
      "display_name": "Python 3"
    },
    "language_info": {
      "name": "python"
    }
  },
  "cells": [
    {
      "cell_type": "markdown",
      "metadata": {
        "id": "view-in-github",
        "colab_type": "text"
      },
      "source": [
        "<a href=\"https://colab.research.google.com/github/irivers29/medical-robot/blob/master/model_2.ipynb\" target=\"_parent\"><img src=\"https://colab.research.google.com/assets/colab-badge.svg\" alt=\"Open In Colab\"/></a>"
      ]
    },
    {
      "cell_type": "code",
      "metadata": {
        "colab": {
          "base_uri": "https://localhost:8080/"
        },
        "id": "PGmGHGftLdQZ",
        "outputId": "d8393fa4-2b67-4c91-d20c-8cc0a9a48425"
      },
      "source": [
        "from google.colab import drive \n",
        "import cv2 as cv\n",
        "import matplotlib.pyplot as plt\n",
        "import numpy as np\n",
        "\n",
        "%matplotlib inline \n",
        "cv.__version__\n",
        "drive.mount(\"./ROPCA_Vision\")\n"
      ],
      "execution_count": null,
      "outputs": [
        {
          "output_type": "stream",
          "text": [
            "Drive already mounted at ./ROPCA_Vision; to attempt to forcibly remount, call drive.mount(\"./ROPCA_Vision\", force_remount=True).\n"
          ],
          "name": "stdout"
        }
      ]
    },
    {
      "cell_type": "code",
      "metadata": {
        "colab": {
          "base_uri": "https://localhost:8080/"
        },
        "id": "P-Qs-0DaqQLg",
        "outputId": "b8982f8a-ee93-46e0-cbb6-8f59a9db0d2b"
      },
      "source": [
        "!ls\n",
        "!ls ./ROPCA_vision"
      ],
      "execution_count": null,
      "outputs": [
        {
          "output_type": "stream",
          "text": [
            "ROPCA_vision  ROPCA_Vision  sample_data\n",
            "ls: cannot access './ROPCA_vision': Transport endpoint is not connected\n"
          ],
          "name": "stdout"
        }
      ]
    },
    {
      "cell_type": "code",
      "metadata": {
        "id": "S29z_O_2Xbmn"
      },
      "source": [
        "backSub = cv.createBackgroundSubtractorMOG2()"
      ],
      "execution_count": null,
      "outputs": []
    },
    {
      "cell_type": "code",
      "metadata": {
        "colab": {
          "base_uri": "https://localhost:8080/"
        },
        "id": "LYNezxWSXx27",
        "outputId": "018e0efd-fae0-40b9-e744-b770a8cd1ca8"
      },
      "source": [
        "\n",
        "#Open a simple image\n",
        "img=cv.imread(\"./ROPCA_vision/raw/right/img400084.png\")\n",
        "print(img)\n",
        "#plt.imshow(img)"
      ],
      "execution_count": null,
      "outputs": [
        {
          "output_type": "stream",
          "text": [
            "None\n"
          ],
          "name": "stdout"
        }
      ]
    },
    {
      "cell_type": "code",
      "metadata": {
        "id": "j4FeH-GVmAvy"
      },
      "source": [
        "#converting from gbr to hsv color space\n",
        "img_HSV = cv2.cvtColor(img, cv2.COLOR_BGR2HSV)\n",
        "#skin color range for hsv color space \n",
        "HSV_mask = cv2.inRange(img_HSV, (0, 15, 0), (17,170,255)) \n",
        "HSV_mask = cv2.morphologyEx(HSV_mask, cv2.MORPH_OPEN, np.ones((3,3), np.uint8))\n",
        "\n",
        "#converting from gbr to YCbCr color space\n",
        "img_YCrCb = cv2.cvtColor(img, cv2.COLOR_BGR2YCrCb)\n",
        "#skin color range for hsv color space \n",
        "YCrCb_mask = cv2.inRange(img_YCrCb, (0, 135, 85), (255,180,135)) \n",
        "YCrCb_mask = cv2.morphologyEx(YCrCb_mask, cv2.MORPH_OPEN, np.ones((3,3), np.uint8))\n",
        "\n",
        "#merge skin detection (YCbCr and hsv)\n",
        "global_mask=cv2.bitwise_and(YCrCb_mask,HSV_mask)\n",
        "global_mask=cv2.medianBlur(global_mask,3)\n",
        "global_mask = cv2.morphologyEx(global_mask, cv2.MORPH_OPEN, np.ones((4,4), np.uint8))\n",
        "\n",
        "\n",
        "HSV_result = cv2.bitwise_not(HSV_mask)\n",
        "YCrCb_result = cv2.bitwise_not(YCrCb_mask)\n",
        "global_result=cv2.bitwise_not(global_mask)\n",
        "\n",
        "\n",
        "#show results\n",
        "# cv2.imshow(\"1_HSV.jpg\",HSV_result)\n",
        "# cv2.imshow(\"2_YCbCr.jpg\",YCrCb_result)\n",
        "# cv2.imshow(\"3_global_result.jpg\",global_result)\n",
        "# cv2.imshow(\"Image.jpg\",img)\n",
        "cv2.imwrite(\"1_HSV.jpg\",HSV_result)\n",
        "cv2.imwrite(\"2_YCbCr.jpg\",YCrCb_result)\n",
        "cv2.imwrite(\"3_global_result.jpg\",global_result)\n",
        "cv2.waitKey(0)\n",
        "cv2.destroyAllWindows()  "
      ],
      "execution_count": null,
      "outputs": []
    }
  ]
}