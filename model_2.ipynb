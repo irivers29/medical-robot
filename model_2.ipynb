{
 "cells": [
  {
   "cell_type": "markdown",
   "metadata": {
    "colab_type": "text",
    "id": "view-in-github"
   },
   "source": [
    "<a href=\"https://colab.research.google.com/github/irivers29/medical-robot/blob/master/model_2.ipynb\" target=\"_parent\"><img src=\"https://colab.research.google.com/assets/colab-badge.svg\" alt=\"Open In Colab\"/></a>"
   ]
  },
  {
   "cell_type": "code",
   "execution_count": 35,
   "metadata": {
    "colab": {
     "base_uri": "https://localhost:8080/"
    },
    "id": "PGmGHGftLdQZ",
    "outputId": "d8393fa4-2b67-4c91-d20c-8cc0a9a48425"
   },
   "outputs": [
    {
     "name": "stdout",
     "output_type": "stream",
     "text": [
      "model_2.ipynb  package.json  readme.md\tROPCA_Vision  train_model.ipynb\n"
     ]
    }
   ],
   "source": [
    "from google.colab import drive \n",
    "import cv2 as cv\n",
    "import matplotlib.pyplot as plt\n",
    "import numpy as np\n",
    "import os\n",
    "\n",
    "%matplotlib inline \n",
    "cv.__version__\n",
    "#drive.mount(\"./ROPCA_Vision\")\n",
    "! ls"
   ]
  },
  {
   "cell_type": "code",
   "execution_count": 36,
   "metadata": {
    "colab": {
     "base_uri": "https://localhost:8080/"
    },
    "id": "P-Qs-0DaqQLg",
    "outputId": "b8982f8a-ee93-46e0-cbb6-8f59a9db0d2b"
   },
   "outputs": [
    {
     "name": "stdout",
     "output_type": "stream",
     "text": [
      "img000080.png  img104072.png  img110044.png  img117041.png  img122073.png\n",
      "img000081.png  img104073.png  img111040.png  img117042.png  img122074.png\n",
      "img000082.png  img104074.png  img111041.png  img117043.png  img123040.png\n",
      "img000083.png  img105040.png  img111042.png  img117044.png  img123041.png\n",
      "img000084.png  img105041.png  img111043.png  img119070.png  img123042.png\n",
      "img100080.png  img105042.png  img111044.png  img119071.png  img123043.png\n",
      "img100081.png  img105043.png  img113040.png  img119072.png  img123044.png\n",
      "img100082.png  img105044.png  img113041.png  img119073.png  img200080.png\n",
      "img100083.png  img107070.png  img113042.png  img119074.png  img200081.png\n",
      "img100084.png  img107071.png  img113043.png  img120040.png  img200082.png\n",
      "img102040.png  img107072.png  img113044.png  img120041.png  img200083.png\n",
      "img102041.png  img107073.png  img114070.png  img120042.png  img200084.png\n",
      "img102042.png  img107074.png  img114071.png  img120043.png  img300080.png\n",
      "img102043.png  img109040.png  img114072.png  img120044.png  img300081.png\n",
      "img102044.png  img109041.png  img114073.png  img121040.png  img300082.png\n",
      "img103070.png  img109042.png  img114074.png  img121041.png  img300083.png\n",
      "img103071.png  img109043.png  img115040.png  img121042.png  img300084.png\n",
      "img103072.png  img109044.png  img115041.png  img121043.png  img400080.png\n",
      "img103073.png  img110040.png  img115042.png  img121044.png  img400081.png\n",
      "img103074.png  img110041.png  img115043.png  img122070.png  img400082.png\n",
      "img104070.png  img110042.png  img115044.png  img122071.png  img400083.png\n",
      "img104071.png  img110043.png  img117040.png  img122072.png  img400084.png\n"
     ]
    }
   ],
   "source": [
    "!ls ./ROPCA_Vision/raw/right"
   ]
  },
  {
   "cell_type": "code",
   "execution_count": 37,
   "metadata": {
    "id": "S29z_O_2Xbmn"
   },
   "outputs": [],
   "source": [
    "backSub = cv.createBackgroundSubtractorMOG2()"
   ]
  },
  {
   "cell_type": "code",
   "execution_count": 38,
   "metadata": {
    "colab": {
     "base_uri": "https://localhost:8080/"
    },
    "id": "LYNezxWSXx27",
    "outputId": "018e0efd-fae0-40b9-e744-b770a8cd1ca8"
   },
   "outputs": [
    {
     "name": "stdout",
     "output_type": "stream",
     "text": [
      "Image is read\n"
     ]
    },
    {
     "data": {
      "image/png": "[encoded data removed]",
      "text/plain": [
       "<Figure size 432x288 with 2 Axes>"
      ]
     },
     "metadata": {
      "needs_background": "light"
     },
     "output_type": "display_data"
    },
    {
     "name": "stdout",
     "output_type": "stream",
     "text": [
      "(1280, 720, 3)\n"
     ]
    }
   ],
   "source": [
    "#Open a simple image\n",
    "raw_img= cv.imread(\"/media/jagatpreet/Data/summer_school/medical-robot/ROPCA_Vision/raw/right/img000080.png\",-1)\n",
    "labeled_img= cv.imread(\"/media/jagatpreet/Data/summer_school/medical-robot/ROPCA_Vision/labeled/right/img000080.png\",-1)\n",
    "img=cv.imread(\"/home/jagatpreet/Pictures/features_ours_vs_others.png\",-1)\n",
    "#prisnt(img)\n",
    "\n",
    "if(raw_img is None):\n",
    "    print(\"Image is empty\")\n",
    "else:\n",
    "    print(\"Image is read\")\n",
    "#type(raw_img)\n",
    "plt.subplot(121)\n",
    "plt.imshow(raw_img)\n",
    "\n",
    "plt.subplot(122)\n",
    "plt.imshow(labeled_img)\n",
    "plt.show()\n",
    "print(raw_img.shape)\n",
    "# cv.imshow(\"test\",img)\n",
    "# cv.waitkey(0)"
   ]
  },
  {
   "cell_type": "code",
   "execution_count": 29,
   "metadata": {
    "id": "j4FeH-GVmAvy"
   },
   "outputs": [
    {
     "data": {
      "text/plain": [
       "<matplotlib.image.AxesImage at 0x7fa75c199950>"
      ]
     },
     "execution_count": 29,
     "metadata": {},
     "output_type": "execute_result"
    },
    {
     "data": {
      "image/png": "[encoded data removed]",
      "text/plain": [
       "<Figure size 432x288 with 1 Axes>"
      ]
     },
     "metadata": {
      "needs_background": "light"
     },
     "output_type": "display_data"
    }
   ],
   "source": [
    "#converting from gbr to hsv color space\n",
    "img_HSV = cv.cvtColor(raw_img, cv.COLOR_BGR2HSV)\n",
    "#skin color range for hsv color space \n",
    "HSV_mask = cv.inRange(img_HSV, (0, 15, 0), (17,170,255)) \n",
    "HSV_mask = cv.morphologyEx(HSV_mask, cv.MORPH_OPEN, np.ones((3,3), np.uint8))\n",
    "plt.imshow(HSV_mask)\n",
    "\n",
    "#show results\n",
    "# cv2.imshow(\"1_HSV.jpg\",HSV_result)\n",
    "# cv2.imshow(\"2_YCbCr.jpg\",YCrCb_result)\n",
    "# cv2.imshow(\"3_global_result.jpg\",global_result)\n",
    "# cv2.imshow(\"Image.jpg\",img)"
   ]
  },
  {
   "cell_type": "code",
   "execution_count": null,
   "metadata": {},
   "outputs": [],
   "source": [
    "#converting from gbr to YCbCr color space\n",
    "img_YCrCb = cv.cvtColor(img, cv.COLOR_BGR2YCrCb)\n",
    "#skin color range for hsv color space \n",
    "YCrCb_mask = cv.inRange(img_YCrCb, (0, 135, 85), (255,180,135)) \n",
    "YCrCb_mask = cv.morphologyEx(YCrCb_mask, cv.MORPH_OPEN, np.ones((3,3), np.uint8))\n",
    "\n",
    "#merge skin detection (YCbCr and hsv)\n",
    "global_mask=cv.bitwise_and(YCrCb_mask,HSV_mask)\n",
    "global_mask=cv.medianBlur(global_mask,3)\n",
    "global_mask = cv.morphologyEx(global_mask, cv.MORPH_OPEN, np.ones((4,4), np.uint8))\n",
    "\n",
    "\n",
    "HSV_result = cv.bitwise_not(HSV_mask)\n",
    "YCrCb_result = cv.bitwise_not(YCrCb_mask)\n",
    "global_result=cv.bitwise_not(global_mask)\n"
   ]
  },
  {
   "cell_type": "code",
   "execution_count": null,
   "metadata": {},
   "outputs": [],
   "source": [
    "cv.imwrite(\"1_HSV.jpg\",HSV_result)\n",
    "cv.imwrite(\"2_YCbCr.jpg\",YCrCb_result)\n",
    "cv.imwrite(\"3_global_result.jpg\",global_result)\n",
    "cv.waitKey(0)\n",
    "cv.destroyAllWindows()  "
   ]
  },
  {
   "cell_type": "code",
   "execution_count": null,
   "metadata": {},
   "outputs": [],
   "source": [
    "def get_all_filenames(folder): \n",
    "def segment_image(img):\n",
    "def read_labels():"
   ]
  },
  {
   "cell_type": "code",
   "execution_count": null,
   "metadata": {},
   "outputs": [],
   "source": []
  },
  {
   "cell_type": "code",
   "execution_count": null,
   "metadata": {},
   "outputs": [],
   "source": []
  }
 ],
 "metadata": {
  "colab": {
   "authorship_tag": "ABX9TyMxJvuf+VLqage/p+WyarbP",
   "collapsed_sections": [],
   "include_colab_link": true,
   "name": "model_2.ipynb",
   "provenance": []
  },
  "kernelspec": {
   "display_name": "Python 3",
   "language": "python",
   "name": "python3"
  },
  "language_info": {
   "codemirror_mode": {
    "name": "ipython",
    "version": 3
   },
   "file_extension": ".py",
   "mimetype": "text/x-python",
   "name": "python",
   "nbconvert_exporter": "python",
   "pygments_lexer": "ipython3",
   "version": "3.7.9"
  }
 },
 "nbformat": 4,
 "nbformat_minor": 4
}
