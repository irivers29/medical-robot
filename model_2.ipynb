{
  "nbformat": 4,
  "nbformat_minor": 0,
  "metadata": {
    "colab": {
      "name": "model_2.ipynb",
      "provenance": [],
      "collapsed_sections": [],
      "authorship_tag": "ABX9TyO2MutdZnZ5j/zPDtjNAuk/",
      "include_colab_link": true
    },
    "kernelspec": {
      "name": "python3",
      "display_name": "Python 3"
    },
    "language_info": {
      "name": "python"
    }
  },
  "cells": [
    {
      "cell_type": "markdown",
      "metadata": {
        "id": "view-in-github",
        "colab_type": "text"
      },
      "source": [
        "<a href=\"https://colab.research.google.com/github/irivers29/medical-robot/blob/master/model_2.ipynb\" target=\"_parent\"><img src=\"https://colab.research.google.com/assets/colab-badge.svg\" alt=\"Open In Colab\"/></a>"
      ]
    },
    {
      "cell_type": "code",
      "metadata": {
        "colab": {
          "base_uri": "https://localhost:8080/",
          "height": 35
        },
        "id": "PGmGHGftLdQZ",
        "outputId": "42821ff4-b08d-43e9-e359-b6ce5bf95029"
      },
      "source": [
        "import cv2 as cv\n",
        "cv.__version__\n"
      ],
      "execution_count": 2,
      "outputs": [
        {
          "output_type": "execute_result",
          "data": {
            "application/vnd.google.colaboratory.intrinsic+json": {
              "type": "string"
            },
            "text/plain": [
              "'4.1.2'"
            ]
          },
          "metadata": {
            "tags": []
          },
          "execution_count": 2
        }
      ]
    },
    {
      "cell_type": "code",
      "metadata": {
        "id": "S29z_O_2Xbmn"
      },
      "source": [
        "backSub = cv.createBackgroundSubtractorMOG2()"
      ],
      "execution_count": 3,
      "outputs": []
    },
    {
      "cell_type": "code",
      "metadata": {
        "id": "LYNezxWSXx27"
      },
      "source": [
        "import cv2\n",
        "import numpy as np\n",
        "\n",
        "#Open a simple image\n",
        "img=cv2.imread(\"drive/\")\n",
        "\n",
        "#converting from gbr to hsv color space\n",
        "img_HSV = cv2.cvtColor(img, cv2.COLOR_BGR2HSV)\n",
        "#skin color range for hsv color space \n",
        "HSV_mask = cv2.inRange(img_HSV, (0, 15, 0), (17,170,255)) \n",
        "HSV_mask = cv2.morphologyEx(HSV_mask, cv2.MORPH_OPEN, np.ones((3,3), np.uint8))\n",
        "\n",
        "#converting from gbr to YCbCr color space\n",
        "img_YCrCb = cv2.cvtColor(img, cv2.COLOR_BGR2YCrCb)\n",
        "#skin color range for hsv color space \n",
        "YCrCb_mask = cv2.inRange(img_YCrCb, (0, 135, 85), (255,180,135)) \n",
        "YCrCb_mask = cv2.morphologyEx(YCrCb_mask, cv2.MORPH_OPEN, np.ones((3,3), np.uint8))\n",
        "\n",
        "#merge skin detection (YCbCr and hsv)\n",
        "global_mask=cv2.bitwise_and(YCrCb_mask,HSV_mask)\n",
        "global_mask=cv2.medianBlur(global_mask,3)\n",
        "global_mask = cv2.morphologyEx(global_mask, cv2.MORPH_OPEN, np.ones((4,4), np.uint8))\n",
        "\n",
        "\n",
        "HSV_result = cv2.bitwise_not(HSV_mask)\n",
        "YCrCb_result = cv2.bitwise_not(YCrCb_mask)\n",
        "global_result=cv2.bitwise_not(global_mask)\n",
        "\n",
        "\n",
        "#show results\n",
        "# cv2.imshow(\"1_HSV.jpg\",HSV_result)\n",
        "# cv2.imshow(\"2_YCbCr.jpg\",YCrCb_result)\n",
        "# cv2.imshow(\"3_global_result.jpg\",global_result)\n",
        "# cv2.imshow(\"Image.jpg\",img)\n",
        "cv2.imwrite(\"1_HSV.jpg\",HSV_result)\n",
        "cv2.imwrite(\"2_YCbCr.jpg\",YCrCb_result)\n",
        "cv2.imwrite(\"3_global_result.jpg\",global_result)\n",
        "cv2.waitKey(0)\n",
        "cv2.destroyAllWindows()  "
      ],
      "execution_count": null,
      "outputs": []
    }
  ]
}