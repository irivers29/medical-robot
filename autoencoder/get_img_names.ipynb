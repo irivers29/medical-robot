{
 "cells": [
  {
   "cell_type": "code",
   "execution_count": null,
   "metadata": {},
   "outputs": [],
   "source": [
    "import random\n",
    "import itertools\n",
    "import os"
   ]
  },
  {
   "cell_type": "code",
   "execution_count": null,
   "metadata": {},
   "outputs": [],
   "source": [
    "def get_all_filenames(folder_name, name):\n",
    "  files = sorted(os.listdir(folder_name))\n",
    "  \n",
    "  a = open(name, \"w\")\n",
    "  for path, subdirs, files in os.walk(folder_name):\n",
    "    #print(files)\n",
    "    for filename in files:\n",
    "      #print(filename)\n",
    "      f = os.path.join(path, filename)\n",
    "      a.write(filename + os.linesep) \n",
    "\n",
    "  return files\n",
    "\n",
    "#define the folder of where the data is stored\n",
    "\n",
    "data_folders_right = [\"./ROPCA_Vision/raw/right\",\n",
    "                \"./ROPCA_Vision/labeled/right\",]                \n",
    "data_folders_left = [\"./ROPCA_Vision/raw/left\",\n",
    "                \"./ROPCA_Vision/labeled/left\",]\n",
    "data_folders_all_labeled = [\"./ROPCA_Vision/labeled/all\"]\n",
    "data_folders_all_raw = [\"./ROPCA_Vision/raw/all\"]\n",
    "data_folders_all_raw_aug = [\"./ROPCA_Vision/aug_imgs\"]\n",
    "data_folders_all_labeled_aug = [\"./ROPCA_Vision/aug_imgs\"]\n",
    "\n",
    "#cal the function to get a .txt file with all the names\n",
    "\n",
    "aug_files_labeled = get_all_filenames(folder_name = data_folders_all_labeled_aug[0],name = \"aug_labeled\")\n"
   ]
  }
 ],
 "metadata": {
  "kernelspec": {
   "display_name": "Python 3",
   "language": "python",
   "name": "python3"
  }
 },
 "nbformat": 4,
 "nbformat_minor": 4
}
