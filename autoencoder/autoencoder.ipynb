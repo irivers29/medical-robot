{
 "cells": [
  {
   "cell_type": "code",
   "execution_count": null,
   "metadata": {},
   "outputs": [],
   "source": [
    "import numpy as np\n",
    "import matplotlib.pyplot as plt\n",
    "import os\n",
    "import torch\n",
    "\n",
    "from src.networks.segmentationUNet import SegmentationAE\n",
    "\n",
    "import pytorch_lightning as pl\n",
    "#set up default cuda device\n",
    "device = torch.device(\"cuda:0\" if torch.cuda.is_available() else \"cpu\")\n"
   ]
  },
  {
   "cell_type": "markdown",
   "metadata": {},
   "source": [
    "Create new block for loading the train data, valdation data and training data. Maybe we should think about training k-fold\n",
    "\n"
   ]
  },
  {
   "cell_type": "code",
   "execution_count": null,
   "metadata": {},
   "outputs": [],
   "source": [
    "\"\"\" define loss function \"\"\"\n",
    "\n",
    "loss_func = torch.nn.CrossEntropyLoss(ignore_index = -1, reduction = 'mean')\n",
    "\n",
    "hparams = {\n",
    "}"
   ]
  },
  {
   "cell_type": "code",
   "execution_count": null,
   "metadata": {},
   "outputs": [],
   "source": [
    "model = SegmentationAE(hparams = hparams)\n",
    "\n",
    "#train_data and val_data still to ddefine\n",
    "\n",
    "train = model.train_dataloader(train_data)\n",
    "val = model.val_dataloader(val_data)\n",
    "\n",
    "trainer = pl.Trainer(\n",
    "    max_epochs = 20,\n",
    "    gpus=1 if torch.cuda.is_available() else None\n",
    ")\n",
    "\n",
    "trainer.fit(model, train, val)"
   ]
  }
 ],
 "metadata": {
  "kernelspec": {
   "display_name": "Python 3",
   "language": "python",
   "name": "python3"
  }
 },
 "nbformat": 4,
 "nbformat_minor": 4
}
