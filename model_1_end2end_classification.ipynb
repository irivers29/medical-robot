{
  "nbformat": 4,
  "nbformat_minor": 0,
  "metadata": {
    "colab": {
      "name": "model_1_end2end_classification.ipynb",
      "provenance": [],
      "collapsed_sections": [],
      "include_colab_link": true
    },
    "kernelspec": {
      "name": "python3",
      "display_name": "Python 3"
    },
    "language_info": {
      "name": "python"
    }
  },
  "cells": [
    {
      "cell_type": "markdown",
      "metadata": {
        "id": "view-in-github",
        "colab_type": "text"
      },
      "source": [
        "<a href=\"https://colab.research.google.com/github/irivers29/medical-robot/blob/master/model_1_end2end_classification.ipynb\" target=\"_parent\"><img src=\"https://colab.research.google.com/assets/colab-badge.svg\" alt=\"Open In Colab\"/></a>"
      ]
    },
    {
      "cell_type": "code",
      "metadata": {
        "id": "f8fku1e662qw"
      },
      "source": [
        ""
      ],
      "execution_count": null,
      "outputs": []
    },
    {
      "cell_type": "code",
      "metadata": {
        "id": "z9GBEb573dCb",
        "colab": {
          "base_uri": "https://localhost:8080/"
        },
        "outputId": "8172bafb-a399-43af-871c-92562cbd7d5f"
      },
      "source": [
        "from google.colab import drive\n",
        "drive.mount('/content/drive')\n"
      ],
      "execution_count": null,
      "outputs": [
        {
          "output_type": "stream",
          "text": [
            "Mounted at /content/drive\n"
          ],
          "name": "stdout"
        }
      ]
    },
    {
      "cell_type": "code",
      "metadata": {
        "colab": {
          "base_uri": "https://localhost:8080/"
        },
        "id": "UVSwYv6_BE_e",
        "outputId": "54fc2797-24fa-4af4-c452-335642d07480"
      },
      "source": [
        "! pwd\n",
        "! ls /content/drive/MyDrive/summer_school_sdu/ROPCA_Vision/raw/left"
      ],
      "execution_count": null,
      "outputs": [
        {
          "output_type": "stream",
          "text": [
            "/content\n",
            "img000001.png  img104005.png  img110004.png  img117003.png  img123012.png\n",
            "img000002.png  img105001.png  img110005.png  img117004.png  img123013.png\n",
            "img000003.png  img105002.png  img111001.png  img117005.png  img123014.png\n",
            "img000004.png  img105003.png  img111002.png  img119001.png  img123015.png\n",
            "img000005.png  img105004.png  img111003.png  img119002.png  img200001.png\n",
            "img100001.png  img105005.png  img111004.png  img119003.png  img200002.png\n",
            "img100002.png  img107001.png  img111005.png  img119004.png  img200003.png\n",
            "img100003.png  img107002.png  img113001.png  img119005.png  img200004.png\n",
            "img100004.png  img107003.png  img113002.png  img120001.png  img200005.png\n",
            "img100005.png  img107004.png  img113003.png  img120002.png  img300001.png\n",
            "img102001.png  img107005.png  img113004.png  img120003.png  img300002.png\n",
            "img102002.png  img108001.png  img113005.png  img120004.png  img300003.png\n",
            "img102003.png  img108002.png  img114001.png  img120005.png  img300004.png\n",
            "img102004.png  img108003.png  img114002.png  img121001.png  img300005.png\n",
            "img102005.png  img108004.png  img114003.png  img121002.png  img400001.png\n",
            "img103001.png  img108005.png  img114004.png  img121003.png  img400002.png\n",
            "img103002.png  img109001.png  img114005.png  img121004.png  img400003.png\n",
            "img103003.png  img109002.png  img115001.png  img121005.png  img400004.png\n",
            "img103004.png  img109003.png  img115002.png  img122011.png  img400005.png\n",
            "img103005.png  img109004.png  img115003.png  img122012.png  img500001.png\n",
            "img104001.png  img109005.png  img115004.png  img122013.png  img500002.png\n",
            "img104002.png  img110001.png  img115005.png  img122014.png  img500003.png\n",
            "img104003.png  img110002.png  img117001.png  img122015.png  img500004.png\n",
            "img104004.png  img110003.png  img117002.png  img123011.png  img500005.png\n"
          ],
          "name": "stdout"
        }
      ]
    },
    {
      "cell_type": "code",
      "metadata": {
        "id": "4p9y6qCrBIzs"
      },
      "source": [
        ""
      ],
      "execution_count": null,
      "outputs": []
    }
  ]
}