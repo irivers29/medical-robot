{
  "nbformat": 4,
  "nbformat_minor": 0,
  "metadata": {
    "colab": {
      "name": "sync_repo.ipynb",
      "provenance": [],
      "include_colab_link": true
    },
    "kernelspec": {
      "name": "python3",
      "display_name": "Python 3"
    },
    "language_info": {
      "name": "python"
    }
  },
  "cells": [
    {
      "cell_type": "markdown",
      "metadata": {
        "id": "view-in-github",
        "colab_type": "text"
      },
      "source": [
        "<a href=\"https://colab.research.google.com/github/irivers29/medical-robot/blob/master/sync_repo.ipynb\" target=\"_parent\"><img src=\"https://colab.research.google.com/assets/colab-badge.svg\" alt=\"Open In Colab\"/></a>"
      ]
    },
    {
      "cell_type": "code",
      "metadata": {
        "colab": {
          "base_uri": "https://localhost:8080/"
        },
        "id": "xDXKaTs5_rvw",
        "outputId": "f940b1c0-98b8-472a-88db-d8d415576328"
      },
      "source": [
        "from google.colab import drive\n",
        "drive.mount('/content/drive')"
      ],
      "execution_count": null,
      "outputs": [
        {
          "output_type": "stream",
          "text": [
            "Mounted at /content/drive\n"
          ],
          "name": "stdout"
        }
      ]
    },
    {
      "cell_type": "code",
      "metadata": {
        "colab": {
          "base_uri": "https://localhost:8080/"
        },
        "id": "BvFoDl7n_tCt",
        "outputId": "b3cf2c4b-cdfc-42fc-965f-9b07f3107b05"
      },
      "source": [
        "%cd /content\n",
        "!pwd\n",
        "%cd drive/MyDrive/summer_school_sdu/medical-robot-repo\n",
        "!git pull origin master\n",
        "!pwd"
      ],
      "execution_count": null,
      "outputs": [
        {
          "output_type": "stream",
          "text": [
            "/content\n",
            "/content\n",
            "/content/drive/.shortcut-targets-by-id/1nkSBip8QBWLlGCjlBgIVPho2kMqJZzYz/summer_school_sdu/medical-robot-repo\n",
            "remote: Enumerating objects: 11, done.\u001b[K\n",
            "remote: Counting objects: 100% (11/11), done.\u001b[K\n",
            "remote: Compressing objects: 100% (4/4), done.\u001b[K\n",
            "remote: Total 6 (delta 2), reused 6 (delta 2), pack-reused 0\u001b[K\n",
            "Unpacking objects: 100% (6/6), done.\n",
            "From https://github.com/irivers29/medical-robot\n",
            " * branch            master     -> FETCH_HEAD\n",
            "   f4355f1..646e6b2  master     -> origin/master\n",
            "Updating 34ebede..646e6b2\n",
            "error: Your local changes to the following files would be overwritten by merge:\n",
            "\tautoencoder/src/data/segmentation_dataset.py\n",
            "Please commit your changes or stash them before you merge.\n",
            "Aborting\n",
            "/content/drive/.shortcut-targets-by-id/1nkSBip8QBWLlGCjlBgIVPho2kMqJZzYz/summer_school_sdu/medical-robot-repo\n"
          ],
          "name": "stdout"
        }
      ]
    },
    {
      "cell_type": "code",
      "metadata": {
        "id": "TzgL93OTAXI_"
      },
      "source": [
        ""
      ],
      "execution_count": null,
      "outputs": []
    }
  ]
}